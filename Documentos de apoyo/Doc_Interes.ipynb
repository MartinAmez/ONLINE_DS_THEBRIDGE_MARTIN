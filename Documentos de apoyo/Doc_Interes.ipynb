{
 "cells": [
  {
   "cell_type": "markdown",
   "id": "dcd8fe9a-5ad6-46b7-81e7-2b25019c4867",
   "metadata": {},
   "source": [
    "# DOCUMENTOS DE INTERES\n",
    "\n",
    "##  Sprint 1:\n",
    "###      1.0 Sistema Operarivo\n",
    "            https://www.makeuseof.com/tag/a-beginners-guide-to-the-windows-command-line/\n",
    "\n",
    "            https://cheatography.com/davechild/cheat-sheets/linux-command-line/\n",
    "\n",
    "###      1.1 Git, GitHub\n",
    "            https://youtu.be/Mkd8jdNUoIM\n",
    "\n",
    "            https://learngitbranching.js.org/?locale=es_ES\n",
    "\n",
    "            https://docs.github.com/es/get-started/quickstart/hello-world\n",
    "\n",
    "            https://learngitbranching.js.org/?locale=es_EShttps://docs.github.com/es/get-started/quickstart/hello-world\n",
    "\n",
    "            3 fichas en carpeta de descarga\n",
    "            \n",
    "\n",
    "###      1.2 Markdown\n",
    "            https://www.markdownguide.org/basic-syntax/\n",
    "\n",
    "            https://medium.com/analytics-vidhya/the-ultimate-markdown-guide-for-jupyter-notebook-d5e5abf728fd\n",
    "\n",
    "###      1.3 import math\n",
    "            https://docs.python.org/3/library/math.html\n",
    "\n",
    "###      1.4 Algebra bool\n",
    "            https://ryanstutorials.net/boolean-algebra-tutorial/\n",
    "\n",
    "###      1.5 Funciones built-in de Python\n",
    "            https://docs.python.org/3/library/functions.html\n",
    "\n",
    "###      1.6 Metodos de las variables tipo String\n",
    "            https://docs.python.org/2.5/lib/string-methods.html\n",
    "\n",
    "###      1.7 Metodos de las variables tipo list\n",
    "            https://www.w3schools.com/python/python_ref_list.asp\n",
    "\n",
    "\n",
    "\n",
    "\n",
    "\n",
    "\n",
    "\n",
    "\n",
    "\n",
    "\n",
    "\n",
    "\n",
    "\n",
    "\n",
    "            "
   ]
  },
  {
   "cell_type": "markdown",
   "metadata": {},
   "source": [
    "##  Sprint 2:\n",
    "###     2.0 Diccionarios metodos\n",
    "            https://www.w3schools.com/python/python_ref_dictionary.asp\n",
    "###     2.1 Sets\n",
    "            https://docs.python.org/2/library/sets.html"
   ]
  },
  {
   "cell_type": "markdown",
   "metadata": {},
   "source": []
  },
  {
   "cell_type": "markdown",
   "metadata": {},
   "source": [
    "##  Sprint 4\n",
    "###     4.0 Mercado Laboral Tecnologico\n",
    "            https://www.getmanfred.com/developer-career-report\n",
    "\n",
    "            https://mapadelempleo.fundaciontelefonica.com/\n",
    "\n",
    "            https://mobileworldcapital.com/report/digital-talent-overview-2023/\n",
    "\n",
    "###     4.1 \n",
    "            "
   ]
  },
  {
   "cell_type": "markdown",
   "id": "66d48019",
   "metadata": {},
   "source": []
  },
  {
   "cell_type": "markdown",
   "id": "33abb128-caa9-449f-9857-14db3a4d7d93",
   "metadata": {},
   "source": [
    "Hola Mundo"
   ]
  },
  {
   "cell_type": "code",
   "execution_count": null,
   "id": "00954c54-cbae-47fb-822f-856136e55971",
   "metadata": {},
   "outputs": [],
   "source": []
  }
 ],
 "metadata": {
  "kernelspec": {
   "display_name": "Python 3 (ipykernel)",
   "language": "python",
   "name": "python3"
  },
  "language_info": {
   "codemirror_mode": {
    "name": "ipython",
    "version": 3
   },
   "file_extension": ".py",
   "mimetype": "text/x-python",
   "name": "python",
   "nbconvert_exporter": "python",
   "pygments_lexer": "ipython3",
   "version": "3.11.4"
  }
 },
 "nbformat": 4,
 "nbformat_minor": 5
}
