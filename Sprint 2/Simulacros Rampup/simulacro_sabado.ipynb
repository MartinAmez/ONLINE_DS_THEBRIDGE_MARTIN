{
 "cells": [
  {
   "attachments": {},
   "cell_type": "markdown",
   "metadata": {},
   "source": [
    "# Simulacro Rampup"
   ]
  },
  {
   "cell_type": "code",
   "execution_count": 2,
   "metadata": {},
   "outputs": [],
   "source": [
    "# Escribe tu nombre y apellidos (apellido si solo tienes uno) en las variables:\n",
    "nombre = \"Martin\"\n",
    "apellidos = \"Ámez Segovia\""
   ]
  },
  {
   "cell_type": "code",
   "execution_count": 3,
   "metadata": {},
   "outputs": [
    {
     "name": "stdout",
     "output_type": "stream",
     "text": [
      "Bienvenido Martin Ámez Segovia. Mucha suerte!\n"
     ]
    }
   ],
   "source": [
    "# Solo ejecutar\n",
    "nombre_apellidos = nombre + ' ' + apellidos\n",
    "print(\"Bienvenido\", nombre_apellidos + '. Mucha suerte!')"
   ]
  },
  {
   "cell_type": "markdown",
   "metadata": {},
   "source": [
    "### Ejercicio 1: Calculadoras (3 puntos)\n"
   ]
  },
  {
   "cell_type": "markdown",
   "metadata": {},
   "source": [
    "Construye un programa que:\n",
    "\n",
    "- Salude al usuario por su nombre\n",
    "- Le pregunte si quiere sumar, restar, multiplicar o dividir\n",
    "- Pida que introduzca 2 números de manera sucesiva\n",
    "- Devuelva el resultado de manera formal con un mensaje apropiado \n",
    "\n",
    "**Ayuda**: No se puede dividir por 0"
   ]
  },
  {
   "cell_type": "code",
   "execution_count": 9,
   "metadata": {},
   "outputs": [],
   "source": [
    "#calculadora simple\n",
    "\n",
    "def calculadora():\n",
    "\n",
    "    #introduce un nombre y saluda\n",
    "    nombre=input(\"introduce tu nombre\")\n",
    "    print(f\"Hola {nombre}!\")\n",
    "\n",
    "    #introduce la operacion que quieres\n",
    "    operacion=input(\"¿Quieres sumar, restar, multiplicar o dividir\")\n",
    "\n",
    "    #se hace una comparacion para distinguir que operacion quiere, otra opcion sale y te dice que lo intentes de nuevo\n",
    "    #cuando escoge la operacion te pide 2 numeros y devuelve el resultado\n",
    "    \n",
    "    if operacion.lower() == \"sumar\":\n",
    "        primer_numero=int(input(\"Introduce un numero\"))\n",
    "        segundo_numero=int(input(\"Introduce el segundo numero\"))\n",
    "        resultado=primer_numero+segundo_numero\n",
    "        return f\"El resultado es: {resultado}\"                      \n",
    "    elif operacion.lower() == \"restar\":\n",
    "        primer_numero=int(input(\"Introduce un numero\"))\n",
    "        segundo_numero=int(input(\"Introduce el segundo numero\"))\n",
    "        resultado=primer_numero-segundo_numero\n",
    "        return f\"El resultado es: {resultado}\"    \n",
    "    elif operacion.lower() == \"dividir\":\n",
    "        primer_numero=int(input(\"Introduce un numero\"))\n",
    "        segundo_numero=int(input(\"Introduce el segundo numero\"))\n",
    "        if segundo_numero==0:\n",
    "            return f\"No se puede dividir entre 0\"\n",
    "        resultado=primer_numero/segundo_numero\n",
    "        return f\"El resultado es: {resultado}\"    \n",
    "    elif operacion.lower == \"multiplicar\":\n",
    "        primer_numero=int(input(\"Introduce un numero\"))\n",
    "        segundo_numero=int(input(\"Introduce el segundo numero\"))\n",
    "        resultado=primer_numero*segundo_numero\n",
    "        return f\"El resultado es: {resultado}\"       \n",
    "\n",
    "    return f\"{operacion}, es un valor incorrecto, vuelve a probar\"\n"
   ]
  },
  {
   "cell_type": "code",
   "execution_count": 11,
   "metadata": {},
   "outputs": [
    {
     "name": "stdout",
     "output_type": "stream",
     "text": [
      "Hola Martin!\n"
     ]
    },
    {
     "data": {
      "text/plain": [
       "'gato, es un valor incorrecto, vuelve a probar'"
      ]
     },
     "execution_count": 11,
     "metadata": {},
     "output_type": "execute_result"
    }
   ],
   "source": [
    "calculadora()"
   ]
  },
  {
   "cell_type": "markdown",
   "metadata": {},
   "source": [
    "Construye una calculadora que sea como la anterior pero:\n",
    "\n",
    "- Acepte tantos valores de entrada como queramos\n",
    "- Devuelva mensajes con las cuentas que se van haciendo.\n",
    "- Permita salir con una palabra clave (exit, quit, ...)"
   ]
  },
  {
   "cell_type": "code",
   "execution_count": 12,
   "metadata": {},
   "outputs": [],
   "source": [
    "#calculadora compleja\n",
    "\n",
    "def calculadora_c():\n",
    "\n",
    "    #introduce tu nombre y envia el saludo\n",
    "    nombre=input(\"introduce tu nombre\")\n",
    "    print(f\"Hola {nombre}!\")\n",
    "\n",
    "    #Te pide que ingreses un numero antes de elegir la operacion\n",
    "    resultado=int(input(\"Introduce un numero\"))\n",
    "\n",
    "    #Ejecuta un bucle que es infinito hasta que le demos la palabra clave \"exit\"\n",
    "    #cuando se escoge una operacion por su simbolo matematico te pide que ingreses un segundo numero que suma,resta y multiplica al primero, o por el que dividir (0 da mensaje de error)\n",
    "    #los valores se van acumulando en el resultado hasta que salimos y nos devuelve el total\n",
    "    while True:\n",
    "        operacion=input(\"¿Quieres sumar (+), restar (-), multiplicar(*) , dividir(/) o salir (exit)\")\n",
    "        if operacion.lower()== \"exit\":\n",
    "            return print(f\"TOTAL: {resultado} cerrando calculadora\\n===================\")\n",
    "        \n",
    "        if operacion == \"+\":\n",
    "            otro_numero=int(input(\"Introduce otro numero\"))\n",
    "            resultado=resultado+otro_numero\n",
    "            print(f\"El resultado es: {resultado}\\n===================\")                  \n",
    "\n",
    "        elif operacion == \"-\":\n",
    "            otro_numero=int(input(\"Introduce otro numero\"))\n",
    "            resultado=resultado-otro_numero\n",
    "            print(f\"El resultado es: {resultado}\\n===================\")    \n",
    "        \n",
    "        elif operacion == \"/\":\n",
    "            otro_numero=int(input(\"Introduce otro numero\"))\n",
    "            if otro_numero==0:\n",
    "                return print(f\"No se puede dividir entre 0\\n===================\")\n",
    "            resultado=resultado/otro_numero\n",
    "            print(f\"El resultado es: {resultado}\\n===================\") \n",
    "        \n",
    "        elif operacion == \"*\":\n",
    "            otro_numero=int(input(\"Introduce otro numero\"))\n",
    "            resultado=resultado*otro_numero\n",
    "            print(f\"El resultado es: {resultado}\\n===================\")\n",
    "        else:\n",
    "            print(f\"{operacion}, es un valor incorrecto, vuelve a probar\\n===================\")\n"
   ]
  },
  {
   "cell_type": "code",
   "execution_count": 13,
   "metadata": {},
   "outputs": [
    {
     "name": "stdout",
     "output_type": "stream",
     "text": [
      "Hola MArtin!\n",
      "El resultado es: 422\n",
      "===================\n",
      "El resultado es: 386\n",
      "===================\n",
      "*54, es un valor incorrecto, vuelve a probar\n",
      "===================\n",
      "El resultado es: 64.33333333333333\n",
      "===================\n",
      "TOTAL: 64.33333333333333 cerrando calculadora\n",
      "===================\n"
     ]
    }
   ],
   "source": [
    "calculadora_c()"
   ]
  },
  {
   "attachments": {},
   "cell_type": "markdown",
   "metadata": {},
   "source": [
    "### Ejercicio 2 (3 puntos)\n",
    "\n",
    "#### Crear un programa que calcule la cuota de una hipoteca\n",
    "\n",
    "Las cuotas hipotecarias se calculan utilizando la fórmula del interés francés. \n",
    "\n",
    "La fórmula del interés francés es la siguiente:\n",
    "\\begin{align*}\n",
    "C=V \\frac{(1+i)^n i}{(1+i)^n -1}\n",
    "\\end{align*}\n",
    "\n",
    "\n",
    "    C = cuota a pagar (mensual)\n",
    "    V = volumen del préstamo hipotecario\n",
    "    i = tipo de interés del período (mensual)\n",
    "    n = número de cuotas (mensuales)\n",
    "\n"
   ]
  },
  {
   "attachments": {},
   "cell_type": "markdown",
   "metadata": {},
   "source": [
    "1. Crea un programa que solicite al usuario los datos de su hipoteca mediante input() los datos (volumen, interés **anual**, y plazo en **años**) y le devuelva la cuota **mensual** a pagar. No es necesario encapsularlo en funciones. (0.4)"
   ]
  },
  {
   "cell_type": "code",
   "execution_count": 39,
   "metadata": {},
   "outputs": [],
   "source": [
    "\n",
    "volumen=float(input(\"introduce el volumen del prestamo hipotecario\"))\n",
    "i_anual=float(input(\"introduce el tipo de interes del periodo anual\").replace(\",\",\".\"))\n",
    "i_mensual=i_anual/12\n",
    "n_años=int(input(\"introduce el plazo en años\"))\n",
    "n_mensual=n_años*12\n",
    "cuota=volumen*(((1+i_mensual)**n_mensual)*i_mensual)/(((1+i_mensual)**n_mensual)-i_mensual)\n",
    "print(f\"la cuota mensual a pagar es {cuota}\")\n"
   ]
  },
  {
   "cell_type": "code",
   "execution_count": 40,
   "metadata": {},
   "outputs": [
    {
     "data": {
      "text/plain": [
       "'la cuota mensual a pagar es 1042.6390431145962'"
      ]
     },
     "execution_count": 40,
     "metadata": {},
     "output_type": "execute_result"
    }
   ],
   "source": [
    "hipoteca()"
   ]
  },
  {
   "cell_type": "code",
   "execution_count": 30,
   "metadata": {},
   "outputs": [
    {
     "data": {
      "text/plain": [
       "'la cuota mensual a pagar es 8341.11234491677'"
      ]
     },
     "execution_count": 30,
     "metadata": {},
     "output_type": "execute_result"
    }
   ],
   "source": [
    "calcular_hip(2000000,0.05,30)\n"
   ]
  },
  {
   "attachments": {},
   "cell_type": "markdown",
   "metadata": {},
   "source": [
    "2. Crea una función `calcular_hip` que realiza el cálculo y cuyos argumentos de entrada sean `volumen`, `interes_anual` y `años`, devolviendo la couta mensual(float). El argumento de `años` deberá de tener un valor por defecto de 30. Documenta la función con el estilo de Google.  (0.4)"
   ]
  },
  {
   "cell_type": "code",
   "execution_count": 42,
   "metadata": {},
   "outputs": [],
   "source": [
    "def calcular_hip(volumen, interes_anual, anhos=30):\n",
    "    volumen=float(input(\"introduce el volumen del prestamo hipotecario\"))\n",
    "    i_anual=float(input(\"introduce el tipo de interes del periodo anual\").replace(\",\",\".\"))\n",
    "    i_mensual=i_anual/12\n",
    "    n_años=int(input(\"introduce el plazo en años\"))\n",
    "    n_mensual=n_años*12\n",
    "    cuota=volumen*((1+i_mensual)**n_mensual*i_mensual)/(((1+i_mensual)**n_mensual)-i_mensual)\n",
    "    return f\"la cuota mensual a pagar es {cuota}\"\n"
   ]
  },
  {
   "cell_type": "code",
   "execution_count": 43,
   "metadata": {},
   "outputs": [
    {
     "data": {
      "text/plain": [
       "'la cuota mensual a pagar es 1251.9229773172433'"
      ]
     },
     "execution_count": 43,
     "metadata": {},
     "output_type": "execute_result"
    }
   ],
   "source": [
    "calcular_hip(300000,0.035,20)"
   ]
  },
  {
   "attachments": {},
   "cell_type": "markdown",
   "metadata": {},
   "source": [
    "3. Calcula la cuota y guárdala en la variable `res_cuota` si la cantidad de la hipoteca son 350000 euros, el interés anual es del 5% y la quiere pagar en 20 años a partir de la función `calcular_hip`. (0.4)\n",
    "\n"
   ]
  },
  {
   "cell_type": "code",
   "execution_count": null,
   "metadata": {},
   "outputs": [],
   "source": []
  },
  {
   "attachments": {},
   "cell_type": "markdown",
   "metadata": {},
   "source": [
    "4. Crea una función `gasto_vivienda`, con dos argumentos de entrada `ingreso` y `lista_hip`. Esta lista tendrá los 3 valores de los argumentos de entrada de `calcular_hip`, llamando a esta función desde dentro de `gasto_vivienda`. Tiene que devolver el valor del porcentaje de gasto en la hipoteca respecto a los ingresos. (Entre 0 y 1, es decir 0.5 si es del 50%) Documenta la función. (0.4)"
   ]
  },
  {
   "cell_type": "code",
   "execution_count": 44,
   "metadata": {},
   "outputs": [],
   "source": [
    "def gasto_vivienda(ingreso,lista_hip):\n",
    "    C=calcular_hip(lista_hip[0],lista_hip[1],lista_hip[2])\n",
    "    porcentaje=C/ingreso"
   ]
  },
  {
   "cell_type": "markdown",
   "metadata": {},
   "source": [
    "#### Ejercicio 3 (3 puntos)\n",
    "\n",
    "Crea un programa que simule un carrusel infantil.\n",
    "\n",
    "\n",
    "El carrusel infantil tiene 3 posibles cochecitos: barco - bomberos - avioneta (una variable global de tipo lista, fuera de tu función).\n",
    "\n",
    "Debes escribir una **FUNCIÓN** llamada carrusel que tenga dos parámetros de entrada: el cochecito que eliges (puede valer el string barco, bomberos o avioneta) y un segundo parámetro llamado vueltas que es un entero.\n",
    "\n",
    "Tu función carrusel NO debe retornar nada, pero debe llamar internamente a coloca(cochecito), ya te lo doy programado. Si sientas al niño en \"avioneta\" y pones 3 vueltas, la función debería imprimir:\n",
    "\n",
    "\"vuelta 1: avioneta - barco - bomberos\"\n",
    "\n",
    "\"vuelta 2: avioneta - barco - bomberos\"\n",
    "\n",
    "\"vuelta 3: avioneta - barco - bomberos\"\n",
    "\n",
    "Se valorará positivamente que haya **UN BUCLE WHILE**.\n",
    "Si no te acaba de funcionar llamando a coloca(cochecito) tras un tiempo prudencial, escribe tu código sin usarlo."
   ]
  },
  {
   "cell_type": "code",
   "execution_count": 16,
   "metadata": {},
   "outputs": [],
   "source": [
    "lista_carrusel = [\"barco\", \"bomberos\", \"avioneta\"]\n",
    "\n",
    "def coloca(cochecito):  \n",
    "    if cochecito == \"barco\": \n",
    "        return lista_carrusel \n",
    "    elif cochecito == \"bomberos\" or cochecito == \"avioneta\": \n",
    "        elemento = lista_carrusel.pop(0)\n",
    "        lista_carrusel.append(elemento) \n",
    "    if cochecito == \"avioneta\":\n",
    "        elemento = lista_carrusel.pop(0) \n",
    "        lista_carrusel.append(elemento) \n",
    "    return lista_carrusel\n",
    "\n",
    "\n",
    "def carrusel(cochecito, vueltas):\n",
    "    coloca(cochecito)\n",
    "    i=0\n",
    "    while i in range(vueltas):\n",
    "        print(f\"Vuelta{i+1}: {lista_carrusel}\")\n",
    "        i=i+1"
   ]
  },
  {
   "cell_type": "code",
   "execution_count": 17,
   "metadata": {},
   "outputs": [
    {
     "name": "stdout",
     "output_type": "stream",
     "text": [
      "Vuelta1: ['bomberos', 'avioneta', 'barco']\n",
      "Vuelta2: ['bomberos', 'avioneta', 'barco']\n",
      "Vuelta3: ['bomberos', 'avioneta', 'barco']\n",
      "Vuelta4: ['bomberos', 'avioneta', 'barco']\n",
      "Vuelta5: ['bomberos', 'avioneta', 'barco']\n",
      "Vuelta6: ['bomberos', 'avioneta', 'barco']\n"
     ]
    }
   ],
   "source": [
    "carrusel(\"bomberos\",6)"
   ]
  },
  {
   "cell_type": "markdown",
   "metadata": {},
   "source": [
    "**EJERCICIO BONUS:**\n",
    "1. Crea una función que, dado un input `x`, devuelva \n",
    "$$\n",
    "y = 4x + 2\n",
    "$$\n",
    "\n",
    "2. Crea una función que, dado un input `x`, devuelva \n",
    "$$\n",
    "y = 3x^2 + 4x + 2\n",
    "$$\n",
    "\n",
    "3. Dado el polinomio\n",
    "\n",
    "$$\n",
    "a_nx^n + a_{n-1}x^{n-1} + ... + a_2x^2 + a_1x + a_0\n",
    "$$\n",
    "\n",
    "Crea una función que reciba como input `x` y una lista de `[a_0, ..., a_n]` y devuelva el valor del polinomio en `x`.\n",
    "\n",
    "**Nota**: En caso de no poder con una función, hacerlo como se pueda.\n",
    "\n",
    "**Pista**: El primero cumple `n = 1` y los parámetros son `[2, 4]`. El segundo: `n = 2` y los parámetros `[2, 4, 3]`. Con esta información, intenta generalizar."
   ]
  },
  {
   "cell_type": "code",
   "execution_count": null,
   "metadata": {},
   "outputs": [],
   "source": []
  }
 ],
 "metadata": {
  "kernelspec": {
   "display_name": "Python 3 (ipykernel)",
   "language": "python",
   "name": "python3"
  },
  "language_info": {
   "codemirror_mode": {
    "name": "ipython",
    "version": 3
   },
   "file_extension": ".py",
   "mimetype": "text/x-python",
   "name": "python",
   "nbconvert_exporter": "python",
   "pygments_lexer": "ipython3",
   "version": "3.11.6"
  },
  "vscode": {
   "interpreter": {
    "hash": "90139cb9a825bf3d63f6f6704e828dbd1ff7edbd4d0c6e906a71235d6efc74af"
   }
  }
 },
 "nbformat": 4,
 "nbformat_minor": 4
}
